{
 "cells": [
  {
   "cell_type": "code",
   "execution_count": 17,
   "metadata": {},
   "outputs": [],
   "source": [
    "# Training script\n",
    "from sklearn.ensemble import RandomForestRegressor\n",
    "from xgboost import XGBRegressor\n",
    "from sklearn.model_selection import train_test_split\n",
    "import joblib\n",
    "import pandas as pd"
   ]
  },
  {
   "cell_type": "code",
   "execution_count": 18,
   "metadata": {},
   "outputs": [],
   "source": [
    "# Load data\n",
    "df = pd.read_csv(\"../Misc/generate_energy.csv\")\n",
    "df.drop(columns=[\"timestamp\"], inplace=True)\n",
    "df[\"hour_demand\"] = df[\"hour\"] * df[\"demand_prev_day\"]\n"
   ]
  },
  {
   "cell_type": "code",
   "execution_count": 19,
   "metadata": {},
   "outputs": [],
   "source": [
    "# Feature sets\n",
    "demand_features = [\n",
    "    \"hour\", \"day_of_week\", \"month\",\n",
    "    \"demand_prev_hour\", \"demand_prev_day\", \"demand_rolling_7d\", \"demand_rolling_24h\",\n",
    "    \"hour_demand\"\n",
    "]\n",
    "solar_features = [\n",
    "    \"hour\", \"day_of_week\", \"month\", \"holiday\",\n",
    "    \"temperature\", \"cloud_cover\"\n",
    "]\n",
    "diesel_features = [\n",
    "    \"hour\", \"day_of_week\", \"month\", \"holiday\",\n",
    "    \"load_demand\", \"demand_prev_hour\", \"demand_prev_day\", \"demand_rolling_7d\", \"demand_rolling_24h\",\n",
    "    \"solar_pv_output\", \"battery_soc\"\n",
    "]"
   ]
  },
  {
   "cell_type": "code",
   "execution_count": 20,
   "metadata": {},
   "outputs": [],
   "source": [
    "#Split data for load_demand\n",
    "X_demand = df[demand_features]\n",
    "y_demand = df[\"load_demand\"]\n",
    "X_train_demand, X_test_demand, y_train_demand, y_test_demand = train_test_split(X_demand, y_demand, \n",
    "                                                                                test_size=0.2, random_state=42)\n",
    "\n",
    "# Split data for solar_pv_output\n",
    "X_solar = df[solar_features]\n",
    "y_solar = df[\"solar_pv_output\"]\n",
    "X_train_solar, X_test_solar, y_train_solar, y_test_solar = train_test_split(X_solar, y_solar, \n",
    "                                                                            test_size=0.2, random_state=42)\n",
    "\n",
    "# Split data for diesel_generator_usage\n",
    "X_diesel = df[diesel_features]\n",
    "y_diesel = df[\"diesel_generator_usage\"]\n",
    "X_train_diesel, X_test_diesel, y_train_diesel, y_test_diesel = train_test_split(X_diesel, y_diesel, \n",
    "                                                                                test_size=0.2, random_state=42)"
   ]
  },
  {
   "cell_type": "code",
   "execution_count": 21,
   "metadata": {},
   "outputs": [],
   "source": [
    "def evaluate_model(y_test, y_pred):\n",
    "    \"\"\"Compute evaluation metrics.\"\"\"\n",
    "    mse = mean_squared_error(y_test, y_pred)\n",
    "    rmse = mean_squared_error(y_test, y_pred, squared=False)\n",
    "    r2 = r2_score(y_test, y_pred)\n",
    "    return {\"MSE\": mse, \"RMSE\": rmse, \"R2\": r2}\n"
   ]
  },
  {
   "cell_type": "code",
   "execution_count": 22,
   "metadata": {},
   "outputs": [
    {
     "data": {
      "text/plain": [
       "['random_forest_model.pkl']"
      ]
     },
     "execution_count": 22,
     "metadata": {},
     "output_type": "execute_result"
    }
   ],
   "source": [
    "\n",
    "# Train models for load_demand\n",
    "rf_demand = RandomForestRegressor(**rf_params)\n",
    "rf_demand.fit(X_train_demand, y_train_demand)\n",
    "joblib.dump(rf_demand, \"random_forest_model.pkl\")"
   ]
  },
  {
   "cell_type": "code",
   "execution_count": 23,
   "metadata": {},
   "outputs": [],
   "source": [
    "xgb_demand = XGBRegressor(**xgb_params)\n",
    "xgb_demand.fit(X_train_demand, y_train_demand)\n",
    "xgb_demand.save_model(\"xgboost_model.json\")"
   ]
  },
  {
   "cell_type": "code",
   "execution_count": 24,
   "metadata": {},
   "outputs": [
    {
     "data": {
      "text/plain": [
       "['rf_solar_model.pkl']"
      ]
     },
     "execution_count": 24,
     "metadata": {},
     "output_type": "execute_result"
    }
   ],
   "source": [
    "# Train models for solar_pv_output\n",
    "rf_solar = RandomForestRegressor(**rf_params)\n",
    "rf_solar.fit(X_train_solar, y_train_solar)\n",
    "joblib.dump(rf_solar, \"rf_solar_model.pkl\")"
   ]
  },
  {
   "cell_type": "code",
   "execution_count": 25,
   "metadata": {},
   "outputs": [
    {
     "data": {
      "text/plain": [
       "['rf_diesel_model.pkl']"
      ]
     },
     "execution_count": 25,
     "metadata": {},
     "output_type": "execute_result"
    }
   ],
   "source": [
    "# Train models for diesel_generator_usage\n",
    "rf_diesel = RandomForestRegressor(**rf_params)\n",
    "rf_diesel.fit(X_train_diesel, y_train_diesel)\n",
    "joblib.dump(rf_diesel, \"rf_diesel_model.pkl\")"
   ]
  },
  {
   "cell_type": "code",
   "execution_count": 26,
   "metadata": {},
   "outputs": [],
   "source": [
    "xgb_diesel = XGBRegressor(**xgb_params)\n",
    "xgb_diesel.fit(X_train_diesel, y_train_diesel)\n",
    "xgb_diesel.save_model(\"xgb_diesel_model.json\")"
   ]
  }
 ],
 "metadata": {
  "kernelspec": {
   "display_name": "fyp",
   "language": "python",
   "name": "python3"
  },
  "language_info": {
   "codemirror_mode": {
    "name": "ipython",
    "version": 3
   },
   "file_extension": ".py",
   "mimetype": "text/x-python",
   "name": "python",
   "nbconvert_exporter": "python",
   "pygments_lexer": "ipython3",
   "version": "3.11.11"
  }
 },
 "nbformat": 4,
 "nbformat_minor": 2
}
